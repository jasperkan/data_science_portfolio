{
 "cells": [
  {
   "cell_type": "markdown",
   "metadata": {},
   "source": [
    "# Evaluation of Subscription Renewal Reminder Feature with A/B Testing"
   ]
  },
  {
   "cell_type": "markdown",
   "metadata": {},
   "source": [
    "## Overview"
   ]
  },
  {
   "cell_type": "markdown",
   "metadata": {},
   "source": [
    "The goal of this project is to use A/B testing to determine if a subscription renewal reminder email at the end of a trial period is beneficial to the business. Like most subscriptions, this service charges users the renewal fee automatically, if users do not cancel their service before the end of their trial period."
   ]
  },
  {
   "cell_type": "markdown",
   "metadata": {},
   "source": [
    "#### Data Used\n",
    "- experiment_data.csv\n",
    "\n",
    "This dataset contains data from an experiment on users of a subscription service who had a 7-day trial. In one variant (the \"YES\" variant), users were sent a renewal reminder email 24 hours before prior to the trial expiration; in the other (the \"NO\" variant), users did not receive a reminder email. Users were assigned randomly to one of the variants when they signed up for the 7-day trial."
   ]
  },
  {
   "cell_type": "markdown",
   "metadata": {},
   "source": [
    "#### Approach\n",
    "I focused on two KPIs for this exercise: **user acquisition rate** and **expected revenue per account**. The reason for looking at both is because a higher trial sign up rate doesn't necessarily result in more revenue. My goal is to help the business increase their profit, while also taking into account user experience and ethics."
   ]
  },
  {
   "cell_type": "markdown",
   "metadata": {},
   "source": [
    "#### Results \n",
    "In the end, I recommended the implementation of the subscription renewal reminder feature for users of all financial statuses. Even though the feature only led to an increase in expected revenue from users with fair and good financial statuses, it might not be worth it to sacrifice the consistency in user experience in this specific case, considering the possible backlash over ethical issues as well."
   ]
  },
  {
   "cell_type": "markdown",
   "metadata": {},
   "source": [
    "## Libraries"
   ]
  },
  {
   "cell_type": "code",
   "execution_count": 10,
   "metadata": {},
   "outputs": [],
   "source": [
    "import pandas as pd\n",
    "import numpy as np\n",
    "from statsmodels.stats import weightstats as stests"
   ]
  },
  {
   "cell_type": "markdown",
   "metadata": {},
   "source": [
    "## Data Load"
   ]
  },
  {
   "cell_type": "markdown",
   "metadata": {},
   "source": [
    "ab_data = pd.read_csv(\"experiment_data.csv\")"
   ]
  },
  {
   "cell_type": "markdown",
   "metadata": {},
   "source": [
    "For my analysis, I will be considering the group without the reminder email to be the control group, since the reminder feature can be considered as an enhancement that we want to test."
   ]
  },
  {
   "cell_type": "code",
   "execution_count": 15,
   "metadata": {},
   "outputs": [],
   "source": [
    "# breaking up the data into control vs. test for hypothesis testing\n",
    "control = ab_data[ab_data['exp_name']=='NO']\n",
    "test = ab_data[ab_data['exp_name']=='YES']"
   ]
  },
  {
   "cell_type": "code",
   "execution_count": 16,
   "metadata": {},
   "outputs": [
    {
     "name": "stdout",
     "output_type": "stream",
     "text": [
      "% of samples in control: 0.4967359119290746\n",
      "% of samples in test: 0.5032640880709254\n"
     ]
    }
   ],
   "source": [
    "# sanity check: making sure that % is roughly 50%\n",
    "control_prop = control.shape[0]/ab_data.shape[0]\n",
    "test_prop = test.shape[0]/ab_data.shape[0]\n",
    "print('% of samples in control: ' + str(control_prop))\n",
    "print('% of samples in test: ' + str(test_prop))"
   ]
  },
  {
   "cell_type": "markdown",
   "metadata": {},
   "source": [
    "## Feature Evaluation"
   ]
  },
  {
   "cell_type": "markdown",
   "metadata": {},
   "source": [
    "### User Acquisition Metric"
   ]
  },
  {
   "cell_type": "markdown",
   "metadata": {},
   "source": [
    "#### Initial Hypothesis\n",
    "The first question I want to explore is: did the reminder feature encourage more people to sign up for a free trial?\n",
    "\n",
    "My hypothesis is that the feature would increase the trial sign up rate, as it offers users peace of mind, knowing that the likelihood of them forgeting to actively make a decision at the end of the trial period decreases with a reminder email."
   ]
  },
  {
   "cell_type": "code",
   "execution_count": 17,
   "metadata": {},
   "outputs": [
    {
     "data": {
      "text/html": [
       "<div>\n",
       "<style scoped>\n",
       "    .dataframe tbody tr th:only-of-type {\n",
       "        vertical-align: middle;\n",
       "    }\n",
       "\n",
       "    .dataframe tbody tr th {\n",
       "        vertical-align: top;\n",
       "    }\n",
       "\n",
       "    .dataframe thead th {\n",
       "        text-align: right;\n",
       "    }\n",
       "</style>\n",
       "<table border=\"1\" class=\"dataframe\">\n",
       "  <thead>\n",
       "    <tr style=\"text-align: right;\">\n",
       "      <th></th>\n",
       "      <th>enter_cc</th>\n",
       "      <th>total</th>\n",
       "      <th>rate</th>\n",
       "    </tr>\n",
       "    <tr>\n",
       "      <th>exp_name</th>\n",
       "      <th></th>\n",
       "      <th></th>\n",
       "      <th></th>\n",
       "    </tr>\n",
       "  </thead>\n",
       "  <tbody>\n",
       "    <tr>\n",
       "      <th>NO</th>\n",
       "      <td>23824</td>\n",
       "      <td>171281</td>\n",
       "      <td>0.139093</td>\n",
       "    </tr>\n",
       "    <tr>\n",
       "      <th>YES</th>\n",
       "      <td>26243</td>\n",
       "      <td>173532</td>\n",
       "      <td>0.151229</td>\n",
       "    </tr>\n",
       "  </tbody>\n",
       "</table>\n",
       "</div>"
      ],
      "text/plain": [
       "          enter_cc   total      rate\n",
       "exp_name                            \n",
       "NO           23824  171281  0.139093\n",
       "YES          26243  173532  0.151229"
      ]
     },
     "execution_count": 17,
     "metadata": {},
     "output_type": "execute_result"
    }
   ],
   "source": [
    "# quick look at summary stats\n",
    "ab_summary = ab_data.pivot_table(values='enter_cc', index='exp_name', aggfunc=np.sum)\n",
    "ab_summary['total'] = ab_data.pivot_table(values='enter_cc', index='exp_name', aggfunc=lambda x: len(x))\n",
    "ab_summary['rate'] = ab_data.pivot_table(values='enter_cc', index='exp_name')\n",
    "ab_summary"
   ]
  },
  {
   "cell_type": "markdown",
   "metadata": {},
   "source": [
    "The pivot table above shows a likelihood that the reminder feature has slightly increased the trial sign up rate. Let's see if this has a different effect based on a user's financial status."
   ]
  },
  {
   "cell_type": "code",
   "execution_count": 18,
   "metadata": {},
   "outputs": [
    {
     "data": {
      "text/html": [
       "<div>\n",
       "<style scoped>\n",
       "    .dataframe tbody tr th:only-of-type {\n",
       "        vertical-align: middle;\n",
       "    }\n",
       "\n",
       "    .dataframe tbody tr th {\n",
       "        vertical-align: top;\n",
       "    }\n",
       "\n",
       "    .dataframe thead th {\n",
       "        text-align: right;\n",
       "    }\n",
       "</style>\n",
       "<table border=\"1\" class=\"dataframe\">\n",
       "  <thead>\n",
       "    <tr style=\"text-align: right;\">\n",
       "      <th></th>\n",
       "      <th></th>\n",
       "      <th>enter_cc</th>\n",
       "      <th>total</th>\n",
       "      <th>rate</th>\n",
       "    </tr>\n",
       "    <tr>\n",
       "      <th>exp_name</th>\n",
       "      <th>fin_status</th>\n",
       "      <th></th>\n",
       "      <th></th>\n",
       "      <th></th>\n",
       "    </tr>\n",
       "  </thead>\n",
       "  <tbody>\n",
       "    <tr>\n",
       "      <th rowspan=\"3\" valign=\"top\">NO</th>\n",
       "      <th>Fair</th>\n",
       "      <td>9609</td>\n",
       "      <td>71405</td>\n",
       "      <td>0.134570</td>\n",
       "    </tr>\n",
       "    <tr>\n",
       "      <th>Good</th>\n",
       "      <td>9133</td>\n",
       "      <td>49197</td>\n",
       "      <td>0.185641</td>\n",
       "    </tr>\n",
       "    <tr>\n",
       "      <th>Poor</th>\n",
       "      <td>5082</td>\n",
       "      <td>50679</td>\n",
       "      <td>0.100278</td>\n",
       "    </tr>\n",
       "    <tr>\n",
       "      <th rowspan=\"3\" valign=\"top\">YES</th>\n",
       "      <th>Fair</th>\n",
       "      <td>10191</td>\n",
       "      <td>71870</td>\n",
       "      <td>0.141798</td>\n",
       "    </tr>\n",
       "    <tr>\n",
       "      <th>Good</th>\n",
       "      <td>11053</td>\n",
       "      <td>50640</td>\n",
       "      <td>0.218266</td>\n",
       "    </tr>\n",
       "    <tr>\n",
       "      <th>Poor</th>\n",
       "      <td>4999</td>\n",
       "      <td>51022</td>\n",
       "      <td>0.097977</td>\n",
       "    </tr>\n",
       "  </tbody>\n",
       "</table>\n",
       "</div>"
      ],
      "text/plain": [
       "                     enter_cc  total      rate\n",
       "exp_name fin_status                           \n",
       "NO       Fair            9609  71405  0.134570\n",
       "         Good            9133  49197  0.185641\n",
       "         Poor            5082  50679  0.100278\n",
       "YES      Fair           10191  71870  0.141798\n",
       "         Good           11053  50640  0.218266\n",
       "         Poor            4999  51022  0.097977"
      ]
     },
     "execution_count": 18,
     "metadata": {},
     "output_type": "execute_result"
    }
   ],
   "source": [
    "# quick look at summary stats\n",
    "ab_summary = ab_data.pivot_table(values='enter_cc', index=['exp_name','fin_status'], aggfunc=np.sum)\n",
    "ab_summary['total'] = ab_data.pivot_table(values='enter_cc', index=['exp_name','fin_status'], aggfunc=lambda x: len(x))\n",
    "ab_summary['rate'] = ab_data.pivot_table(values='enter_cc', index=['exp_name','fin_status'])\n",
    "ab_summary"
   ]
  },
  {
   "cell_type": "markdown",
   "metadata": {},
   "source": [
    "Interestingly, the trial sign up rate for users with a poor financial status seems to have decreased. This is surprising to me, as I would think that the reminder would have the biggest positive impact on users with a poor financial status.\n",
    "\n",
    "I will perform hypothesis testing to see if the following are statistically significant:\n",
    "- the overall improvement in trial sign up rate\n",
    "- the decrease in trial sign up rate for users with a poor financial status"
   ]
  },
  {
   "cell_type": "markdown",
   "metadata": {},
   "source": [
    "#### Probability Distribution\n",
    "I assume that the distribution is binomial for both groups because the data is a series of Bernoulli trials, where each trial results in either a trial sign up or no sign up. \n",
    "\n",
    "X ~ Bernoulli(p), where p is the probability of signing up for a trial\n",
    "<br> E(X) = p\n",
    "<br> Var(X) = p(1-p)\n",
    "\n",
    "Since we have more than 170k trials in each group, we can use the Central Limit Theorem to aid our analysis. Now, we can assume that the random variable is normally distributed with the following properties.\n",
    "\n",
    "X ~ Normal(p, sqrt(p * (1-p))/sqrt(n)), where p is defined above and n is the sample size"
   ]
  },
  {
   "cell_type": "markdown",
   "metadata": {},
   "source": [
    "#### Defining Null and Alternative Hypotheses"
   ]
  },
  {
   "cell_type": "markdown",
   "metadata": {},
   "source": [
    "Now, we are ready to define the null and alternative hypotheses.\n",
    "\n",
    "To test overall improvement in trial sign up rate:\n",
    "- Null: There would be either no change or a decrease in the trial sign up rate due to the reminder (i.e. sample mean of test group minus sample mean of control group is less than or equal to 0)\n",
    "- Alternative: There would be an increase in trial sign up rate due to the reminder (i.e. sample mean of test group minus sample mean of control group is larger than 0)\n",
    "\n",
    "To test the decrease in trial sign up rate for users with a poor financial status:\n",
    "- Null: There would be either no change or an increase in the trial sign up rate for poor users due to the reminder (i.e. sample mean of test group minus sample mean of control group is more than or equal to 0)\n",
    "- Alternative: There would be a decrease in trial sign up rate for poor users due to the reminder (i.e. sample mean of test group minus sample mean of control group is less than 0)\n",
    "\n",
    "A basic property of variance is that the variance of the sum or difference of two random independent variables is the sum of the variances. This means that the null and alternative hypotheses will have the same variance, which will be the sum of the variances of the two groups. This is important as it allows us to use a pooled standard error when solving our Z-test later on.\n",
    "\n",
    "Since the null hypothesis includes an assumption that deviations in both directions are possible, I will use the two-tailed Gaussian test, which assumes the standard deviation of the samples to be the same.\n",
    "\n",
    "Details of function: https://www.statsmodels.org/stable/generated/statsmodels.stats.weightstats.ztest.html"
   ]
  },
  {
   "cell_type": "code",
   "execution_count": 19,
   "metadata": {},
   "outputs": [
    {
     "name": "stdout",
     "output_type": "stream",
     "text": [
      "for testing the overall improvement in trial sign up rate, the p-value is 2.374481637218152e-24\n",
      "for testing the decrease in trial sign up rate for users with a poor financial status, the p-value is 0.1097751200649486\n"
     ]
    }
   ],
   "source": [
    "ztest ,pval = stests.ztest(x1 = test['enter_cc'], \n",
    "                           x2 = control['enter_cc'], \n",
    "                           value=0,\n",
    "                           alternative='larger')\n",
    "print(\"for testing the overall improvement in trial sign up rate, the p-value is \" + str(float(pval)))\n",
    "\n",
    "ztest ,pval = stests.ztest(x1 = test[test['fin_status']=='Poor']['enter_cc'], \n",
    "                           x2 = control[control['fin_status']=='Poor']['enter_cc'], \n",
    "                           value=0,\n",
    "                           alternative='smaller')\n",
    "print(\"for testing the decrease in trial sign up rate for users with a poor financial status, the p-value is \" + str(float(pval)))"
   ]
  },
  {
   "cell_type": "markdown",
   "metadata": {},
   "source": [
    "Since the p-value is extremely small when testing the overall improvement in trial sign up rate, I will reject the null hypothesis. \n",
    "\n",
    "Since the p-value is not small (>0.05) when testing the decrease in trial sign up rate for users with a poor financial status, I will accept the null hypothesis.\n",
    "\n",
    "This suggests that the improvement in trial sign up rate with the email reminder feature is statistically significant overall."
   ]
  },
  {
   "cell_type": "markdown",
   "metadata": {},
   "source": [
    "### Expected Revenue Per Account"
   ]
  },
  {
   "cell_type": "markdown",
   "metadata": {},
   "source": [
    "Even though the feature seems to have slightly improved the trial sign up rate, it wouldn't necessarily result in more revenue. If there are more new trial users due to the email reminder feature, but only a small proportion remains as paid users after the trial period, this might result in a loss for the company. \n",
    "\n",
    "Hence, it is important to see if there is any change to expected revenue per account. I will start by first understanding more about the 'balance' column."
   ]
  },
  {
   "cell_type": "markdown",
   "metadata": {},
   "source": [
    "#### Definition of 'balance'"
   ]
  },
  {
   "cell_type": "markdown",
   "metadata": {},
   "source": [
    "'balance' is defined as the following: \n",
    "- How much money the user has paid in cents\n",
    "- If the user has any balance, this means that they converted to being a paying user\n",
    "- In other words, if the balance is 0, the user either canceled their trial before the trial period or was refunded after\n",
    "\n",
    "However, it is unclear to me if the balance value is life-to-date, or if it refers to the amount paid by a user immediately after a trial period. Normally, I would ask a colleague or the data owner. Given that this is a take-home challenge, I will do some analysis to help me make a reasonable assumption."
   ]
  },
  {
   "cell_type": "code",
   "execution_count": 20,
   "metadata": {},
   "outputs": [],
   "source": [
    "ab_data['yr'] = pd.DatetimeIndex(ab_data['created_at']).year\n",
    "ab_data['month'] = pd.DatetimeIndex(ab_data['created_at']).month"
   ]
  },
  {
   "cell_type": "code",
   "execution_count": 21,
   "metadata": {},
   "outputs": [
    {
     "data": {
      "text/html": [
       "<div>\n",
       "<style scoped>\n",
       "    .dataframe tbody tr th:only-of-type {\n",
       "        vertical-align: middle;\n",
       "    }\n",
       "\n",
       "    .dataframe tbody tr th {\n",
       "        vertical-align: top;\n",
       "    }\n",
       "\n",
       "    .dataframe thead th {\n",
       "        text-align: right;\n",
       "    }\n",
       "</style>\n",
       "<table border=\"1\" class=\"dataframe\">\n",
       "  <thead>\n",
       "    <tr style=\"text-align: right;\">\n",
       "      <th></th>\n",
       "      <th>id</th>\n",
       "      <th>created_at</th>\n",
       "      <th>enter_cc</th>\n",
       "      <th>balance</th>\n",
       "      <th>source_group</th>\n",
       "      <th>fin_status</th>\n",
       "      <th>total</th>\n",
       "      <th>refunded</th>\n",
       "      <th>exp_name</th>\n",
       "      <th>yr</th>\n",
       "      <th>month</th>\n",
       "      <th>period</th>\n",
       "    </tr>\n",
       "  </thead>\n",
       "  <tbody>\n",
       "    <tr>\n",
       "      <th>0</th>\n",
       "      <td>679701</td>\n",
       "      <td>2019-08-05 23:43:29 UTC</td>\n",
       "      <td>0</td>\n",
       "      <td>0</td>\n",
       "      <td>SEO</td>\n",
       "      <td>Fair</td>\n",
       "      <td>NaN</td>\n",
       "      <td>NaN</td>\n",
       "      <td>YES</td>\n",
       "      <td>2019</td>\n",
       "      <td>8</td>\n",
       "      <td>2019/8</td>\n",
       "    </tr>\n",
       "    <tr>\n",
       "      <th>1</th>\n",
       "      <td>1922889</td>\n",
       "      <td>2019-07-05 22:46:03 UTC</td>\n",
       "      <td>0</td>\n",
       "      <td>0</td>\n",
       "      <td>SEO</td>\n",
       "      <td>Fair</td>\n",
       "      <td>NaN</td>\n",
       "      <td>NaN</td>\n",
       "      <td>YES</td>\n",
       "      <td>2019</td>\n",
       "      <td>7</td>\n",
       "      <td>2019/7</td>\n",
       "    </tr>\n",
       "    <tr>\n",
       "      <th>2</th>\n",
       "      <td>3248979</td>\n",
       "      <td>2019-08-20 18:09:00 UTC</td>\n",
       "      <td>0</td>\n",
       "      <td>0</td>\n",
       "      <td>SEO</td>\n",
       "      <td>Fair</td>\n",
       "      <td>NaN</td>\n",
       "      <td>NaN</td>\n",
       "      <td>YES</td>\n",
       "      <td>2019</td>\n",
       "      <td>8</td>\n",
       "      <td>2019/8</td>\n",
       "    </tr>\n",
       "    <tr>\n",
       "      <th>3</th>\n",
       "      <td>703675</td>\n",
       "      <td>2019-07-29 07:23:41 UTC</td>\n",
       "      <td>0</td>\n",
       "      <td>0</td>\n",
       "      <td>SEO</td>\n",
       "      <td>Fair</td>\n",
       "      <td>NaN</td>\n",
       "      <td>NaN</td>\n",
       "      <td>YES</td>\n",
       "      <td>2019</td>\n",
       "      <td>7</td>\n",
       "      <td>2019/7</td>\n",
       "    </tr>\n",
       "    <tr>\n",
       "      <th>4</th>\n",
       "      <td>2172213</td>\n",
       "      <td>2019-09-15 09:26:03 UTC</td>\n",
       "      <td>0</td>\n",
       "      <td>0</td>\n",
       "      <td>SEO</td>\n",
       "      <td>Fair</td>\n",
       "      <td>NaN</td>\n",
       "      <td>NaN</td>\n",
       "      <td>YES</td>\n",
       "      <td>2019</td>\n",
       "      <td>9</td>\n",
       "      <td>2019/9</td>\n",
       "    </tr>\n",
       "  </tbody>\n",
       "</table>\n",
       "</div>"
      ],
      "text/plain": [
       "        id               created_at  enter_cc  balance source_group  \\\n",
       "0   679701  2019-08-05 23:43:29 UTC         0        0          SEO   \n",
       "1  1922889  2019-07-05 22:46:03 UTC         0        0          SEO   \n",
       "2  3248979  2019-08-20 18:09:00 UTC         0        0          SEO   \n",
       "3   703675  2019-07-29 07:23:41 UTC         0        0          SEO   \n",
       "4  2172213  2019-09-15 09:26:03 UTC         0        0          SEO   \n",
       "\n",
       "  fin_status  total  refunded exp_name    yr  month  period  \n",
       "0       Fair    NaN       NaN      YES  2019      8  2019/8  \n",
       "1       Fair    NaN       NaN      YES  2019      7  2019/7  \n",
       "2       Fair    NaN       NaN      YES  2019      8  2019/8  \n",
       "3       Fair    NaN       NaN      YES  2019      7  2019/7  \n",
       "4       Fair    NaN       NaN      YES  2019      9  2019/9  "
      ]
     },
     "execution_count": 21,
     "metadata": {},
     "output_type": "execute_result"
    }
   ],
   "source": [
    "ab_data['period'] = ab_data['yr'].astype(str) + '/' + ab_data['month'].astype(str)\n",
    "ab_data.head()"
   ]
  },
  {
   "cell_type": "code",
   "execution_count": 22,
   "metadata": {},
   "outputs": [
    {
     "data": {
      "text/plain": [
       "0    294746\n",
       "Name: balance, dtype: int64"
      ]
     },
     "execution_count": 22,
     "metadata": {},
     "output_type": "execute_result"
    }
   ],
   "source": [
    "# making that people who didn't start a trial are not direct-to-paid users\n",
    "ab_data[ab_data['enter_cc']==0]['balance'].value_counts()"
   ]
  },
  {
   "cell_type": "code",
   "execution_count": 23,
   "metadata": {},
   "outputs": [
    {
     "data": {
      "text/plain": [
       "period   balance\n",
       "2019/10  0           3402\n",
       "         16200          5\n",
       "         18000         40\n",
       "         23400         16\n",
       "         26000         84\n",
       "         32400          6\n",
       "         36000         94\n",
       "         46800         44\n",
       "         52000        180\n",
       "2019/6   0          58264\n",
       "         16200         51\n",
       "         18000        718\n",
       "         23400        196\n",
       "         26000       1318\n",
       "         32400        128\n",
       "         36000       1832\n",
       "         46800        648\n",
       "         52000       3408\n",
       "2019/7   0          80481\n",
       "         16200         67\n",
       "         18000       1032\n",
       "         23400        277\n",
       "         26000       1869\n",
       "         32400        238\n",
       "         36000       2540\n",
       "         46800        912\n",
       "         52000       4780\n",
       "2019/8   0          80955\n",
       "         16200         82\n",
       "         18000        963\n",
       "         23400        261\n",
       "         26000       1841\n",
       "         32400        180\n",
       "         36000       2604\n",
       "         46800        886\n",
       "         52000       4862\n",
       "2019/9   0          78110\n",
       "         16200         81\n",
       "         18000        978\n",
       "         23400        263\n",
       "         26000       1807\n",
       "         32400        196\n",
       "         36000       2532\n",
       "         46800        848\n",
       "         52000       4734\n",
       "Name: id, dtype: int64"
      ]
     },
     "execution_count": 23,
     "metadata": {},
     "output_type": "execute_result"
    }
   ],
   "source": [
    "ab_data.groupby(['period','balance']).count()['id']"
   ]
  },
  {
   "cell_type": "markdown",
   "metadata": {},
   "source": [
    "I am going to assume that balance represents the amount paid by a user immediately after a trial period because of the following reasons:\n",
    "- The number of distinct values does not increase with time since account creation period.\n",
    "- If balance is a LTD value, then there should be higher amounts in earlier account creation periods, assuming that the data \"snapshot\" was taken on the same day.\n",
    "- The max value for each period is $520, which is 2 months of regular subscription fee. It is highly unlikely that everyone decides to stop using the service after 2 months. It is more likely that there is an option to pre-pay for 2 months of service at the end of a trial, even though it doesn't make sense to do so since there is no discount."
   ]
  },
  {
   "cell_type": "markdown",
   "metadata": {},
   "source": [
    "#### Initial Hypothesis"
   ]
  },
  {
   "cell_type": "code",
   "execution_count": 24,
   "metadata": {},
   "outputs": [
    {
     "data": {
      "text/html": [
       "<div>\n",
       "<style scoped>\n",
       "    .dataframe tbody tr th:only-of-type {\n",
       "        vertical-align: middle;\n",
       "    }\n",
       "\n",
       "    .dataframe tbody tr th {\n",
       "        vertical-align: top;\n",
       "    }\n",
       "\n",
       "    .dataframe thead th {\n",
       "        text-align: right;\n",
       "    }\n",
       "</style>\n",
       "<table border=\"1\" class=\"dataframe\">\n",
       "  <thead>\n",
       "    <tr style=\"text-align: right;\">\n",
       "      <th></th>\n",
       "      <th>balance</th>\n",
       "      <th>total</th>\n",
       "      <th>per_account</th>\n",
       "    </tr>\n",
       "    <tr>\n",
       "      <th>exp_name</th>\n",
       "      <th></th>\n",
       "      <th></th>\n",
       "      <th></th>\n",
       "    </tr>\n",
       "  </thead>\n",
       "  <tbody>\n",
       "    <tr>\n",
       "      <th>NO</th>\n",
       "      <td>793591600</td>\n",
       "      <td>171281</td>\n",
       "      <td>4633.272809</td>\n",
       "    </tr>\n",
       "    <tr>\n",
       "      <th>YES</th>\n",
       "      <td>942051400</td>\n",
       "      <td>173532</td>\n",
       "      <td>5428.689809</td>\n",
       "    </tr>\n",
       "  </tbody>\n",
       "</table>\n",
       "</div>"
      ],
      "text/plain": [
       "            balance   total  per_account\n",
       "exp_name                                \n",
       "NO        793591600  171281  4633.272809\n",
       "YES       942051400  173532  5428.689809"
      ]
     },
     "execution_count": 24,
     "metadata": {},
     "output_type": "execute_result"
    }
   ],
   "source": [
    "# quick look at summary stats\n",
    "ab_summary = ab_data.pivot_table(values='balance', index='exp_name', aggfunc=np.sum)\n",
    "ab_summary['total'] = ab_data.pivot_table(values='balance', index='exp_name', aggfunc=lambda x: len(x))\n",
    "ab_summary['per_account'] = ab_summary['balance'] / ab_summary['total']\n",
    "ab_summary"
   ]
  },
  {
   "cell_type": "markdown",
   "metadata": {},
   "source": [
    "The pivot table above shows a likelihood that the reminder feature has increased the expected revenue per account overall. Again, let's see if this changes for users of different financial statuses."
   ]
  },
  {
   "cell_type": "code",
   "execution_count": 25,
   "metadata": {},
   "outputs": [
    {
     "data": {
      "text/html": [
       "<div>\n",
       "<style scoped>\n",
       "    .dataframe tbody tr th:only-of-type {\n",
       "        vertical-align: middle;\n",
       "    }\n",
       "\n",
       "    .dataframe tbody tr th {\n",
       "        vertical-align: top;\n",
       "    }\n",
       "\n",
       "    .dataframe thead th {\n",
       "        text-align: right;\n",
       "    }\n",
       "</style>\n",
       "<table border=\"1\" class=\"dataframe\">\n",
       "  <thead>\n",
       "    <tr style=\"text-align: right;\">\n",
       "      <th></th>\n",
       "      <th></th>\n",
       "      <th>balance</th>\n",
       "      <th>total</th>\n",
       "      <th>per_account</th>\n",
       "    </tr>\n",
       "    <tr>\n",
       "      <th>exp_name</th>\n",
       "      <th>fin_status</th>\n",
       "      <th></th>\n",
       "      <th></th>\n",
       "      <th></th>\n",
       "    </tr>\n",
       "  </thead>\n",
       "  <tbody>\n",
       "    <tr>\n",
       "      <th rowspan=\"3\" valign=\"top\">NO</th>\n",
       "      <th>Fair</th>\n",
       "      <td>342928800</td>\n",
       "      <td>71405</td>\n",
       "      <td>4802.588054</td>\n",
       "    </tr>\n",
       "    <tr>\n",
       "      <th>Good</th>\n",
       "      <td>327605800</td>\n",
       "      <td>49197</td>\n",
       "      <td>6659.060512</td>\n",
       "    </tr>\n",
       "    <tr>\n",
       "      <th>Poor</th>\n",
       "      <td>123057000</td>\n",
       "      <td>50679</td>\n",
       "      <td>2428.165512</td>\n",
       "    </tr>\n",
       "    <tr>\n",
       "      <th rowspan=\"3\" valign=\"top\">YES</th>\n",
       "      <th>Fair</th>\n",
       "      <td>369643800</td>\n",
       "      <td>71870</td>\n",
       "      <td>5143.228051</td>\n",
       "    </tr>\n",
       "    <tr>\n",
       "      <th>Good</th>\n",
       "      <td>457436200</td>\n",
       "      <td>50640</td>\n",
       "      <td>9033.100316</td>\n",
       "    </tr>\n",
       "    <tr>\n",
       "      <th>Poor</th>\n",
       "      <td>114971400</td>\n",
       "      <td>51022</td>\n",
       "      <td>2253.369135</td>\n",
       "    </tr>\n",
       "  </tbody>\n",
       "</table>\n",
       "</div>"
      ],
      "text/plain": [
       "                       balance  total  per_account\n",
       "exp_name fin_status                               \n",
       "NO       Fair        342928800  71405  4802.588054\n",
       "         Good        327605800  49197  6659.060512\n",
       "         Poor        123057000  50679  2428.165512\n",
       "YES      Fair        369643800  71870  5143.228051\n",
       "         Good        457436200  50640  9033.100316\n",
       "         Poor        114971400  51022  2253.369135"
      ]
     },
     "execution_count": 25,
     "metadata": {},
     "output_type": "execute_result"
    }
   ],
   "source": [
    "# quick look at summary stats\n",
    "ab_summary = ab_data.pivot_table(values='balance', index=['exp_name','fin_status'], aggfunc=np.sum)\n",
    "ab_summary['total'] = ab_data.pivot_table(values='balance', index=['exp_name','fin_status'], aggfunc=lambda x: len(x))\n",
    "ab_summary['per_account'] = ab_summary['balance'] / ab_summary['total']\n",
    "ab_summary"
   ]
  },
  {
   "cell_type": "markdown",
   "metadata": {},
   "source": [
    "It seems like the expected revenue per account has gone down for poor users, which is not surprising given their financial standing. \n",
    "\n",
    "I will perform hypothesis testing to see if the following are statistically significant:\n",
    "- the overall improvement in expected revenue per account\n",
    "- the decrease in expected revenue per account for users with a poor financial status"
   ]
  },
  {
   "cell_type": "markdown",
   "metadata": {},
   "source": [
    "#### Probability Distribution"
   ]
  },
  {
   "cell_type": "markdown",
   "metadata": {},
   "source": [
    "Again, given the large sample size, I can safely assume that the random variable is normally distributed."
   ]
  },
  {
   "cell_type": "markdown",
   "metadata": {},
   "source": [
    "#### Defining Null and Alternative Hypotheses"
   ]
  },
  {
   "cell_type": "markdown",
   "metadata": {},
   "source": [
    "To test overall improvement in expected revenue per account:\n",
    "- Null: There would be either no change or a decrease in the expected revenue per account due to the reminder (i.e. sample mean of test group minus sample mean of control group is less than or equal to 0)\n",
    "- Alternative: There would be an increase in the expected revenue per account due to the reminder (i.e. sample mean of test group minus sample mean of control group is larger than 0)\n",
    "\n",
    "To test the decrease in expected revenue per account for users with a poor financial status:\n",
    "- Null: There would be either no change or an increase in the expected revenue per account for poor users due to the reminder (i.e. sample mean of test group minus sample mean of control group is more than or equal to 0)\n",
    "- Alternative: There would be a decrease in the expected revenue per account for poor users due to the reminder (i.e. sample mean of test group minus sample mean of control group is less than 0)"
   ]
  },
  {
   "cell_type": "code",
   "execution_count": 26,
   "metadata": {},
   "outputs": [
    {
     "name": "stdout",
     "output_type": "stream",
     "text": [
      "for testing the overall improvement in expected revenue per account, the p-value is 1.9112358907209333e-63\n",
      "for testing the decrease in expected revenue per account for users with a poor financial status, the p-value is 0.000470664315266027\n"
     ]
    }
   ],
   "source": [
    "ztest ,pval = stests.ztest(x1 = test['balance'], \n",
    "                           x2 = control['balance'], \n",
    "                           value=0,\n",
    "                           alternative='larger')\n",
    "print(\"for testing the overall improvement in expected revenue per account, the p-value is \" + str(float(pval)))\n",
    "\n",
    "ztest ,pval = stests.ztest(x1 = test[test['fin_status']=='Poor']['balance'], \n",
    "                           x2 = control[control['fin_status']=='Poor']['balance'], \n",
    "                           value=0,\n",
    "                           alternative='smaller')\n",
    "print(\"for testing the decrease in expected revenue per account for users with a poor financial status, the p-value is \" + str(float(pval)))"
   ]
  },
  {
   "cell_type": "markdown",
   "metadata": {},
   "source": [
    "Since both p-values are small (<0.05), I will reject both null hypotheses. This suggests the improvement in expected revenue per account with the email reminder feature is statistically significant for users with fair or good financial statuses. For poor users, there is a decrease in expected revenue per account."
   ]
  },
  {
   "cell_type": "markdown",
   "metadata": {},
   "source": [
    "## Recommendation"
   ]
  },
  {
   "cell_type": "markdown",
   "metadata": {},
   "source": [
    "For users with fair and good financial statuses, it is highly likely that the trial ending reminder would lead to an overall improvement in trial sign up rate and expected revenue per account. For poor users, I observed a statistically significant decrease in expected revenue per account with the trial ending reminder, without a big difference in trial sign up rate. \n",
    "\n",
    "It could be tempting to implement the feature only for users with fair and good financial statuses. However, it might not be worth it to sacrifice the consistency in user experience in this specific case, considering the possible backlash over ethical issues as well.\n",
    "\n",
    "#### Therefore, based only on the analysis I have conducted in this notebook, I would recommend implementing the feature for all users."
   ]
  },
  {
   "cell_type": "markdown",
   "metadata": {},
   "source": [
    "## Future Enhancements"
   ]
  },
  {
   "cell_type": "markdown",
   "metadata": {},
   "source": [
    "#### Improvement to 'Expected Revenue Per Account' Analysis"
   ]
  },
  {
   "cell_type": "markdown",
   "metadata": {},
   "source": [
    "In my analysis, when looking at expected revenue per account, both of the following groups have a balance of 0:\n",
    "- users who did not sign up for a trial\n",
    "- users who signed up for a trial and then churned before converting to paid\n",
    "\n",
    "One way to improve this analysis is to change the balance of the second group to a negative number, since the company actually loses money on these users by paying for their trials. For instance, for a student user who churns at the end of a trial, the balance could be -4500 since the student fee is $45 per week."
   ]
  },
  {
   "cell_type": "markdown",
   "metadata": {},
   "source": [
    "#### Trial-To-Paid Conversion Rate Analysis"
   ]
  },
  {
   "cell_type": "markdown",
   "metadata": {},
   "source": [
    "Instead of or in addition to looking at the expected revenue per account, I could also look at the trial to paid conversion rate. This analysis focuses specifically on users who have decided to start a trial. It is important to analyze the user retention rate at the end of a trial period, since more trial sign ups may not be beneficial if users are not converting to paid plans afterwards. "
   ]
  },
  {
   "cell_type": "markdown",
   "metadata": {},
   "source": [
    "#### User Segmentation"
   ]
  },
  {
   "cell_type": "markdown",
   "metadata": {},
   "source": [
    "It would also be interesting to see if any of the metrics changes based on the source group. Since users from different source groups have different characteristics, I might find more valuable insights by analyzing based on user groups."
   ]
  },
  {
   "cell_type": "markdown",
   "metadata": {},
   "source": [
    "## References"
   ]
  },
  {
   "cell_type": "markdown",
   "metadata": {},
   "source": [
    "I found the following articles very helpful when conducting this analysis:\n",
    "- [The Math Behind A/B Testing with Example Python Code](https://towardsdatascience.com/the-math-behind-a-b-testing-with-example-code-part-1-of-2-7be752e1d06f)\n",
    "- [How to analyze A/B testing result with Python?](https://towardsdatascience.com/how-to-analyze-a-b-testing-result-with-python-600eea37530d)\n",
    "- [Hypothesis Testing in Machine Learning using Python](https://towardsdatascience.com/hypothesis-testing-in-machine-learning-using-python-a0dc89e169ce)"
   ]
  }
 ],
 "metadata": {
  "kernelspec": {
   "display_name": "Python 3",
   "language": "python",
   "name": "python3"
  },
  "language_info": {
   "codemirror_mode": {
    "name": "ipython",
    "version": 3
   },
   "file_extension": ".py",
   "mimetype": "text/x-python",
   "name": "python",
   "nbconvert_exporter": "python",
   "pygments_lexer": "ipython3",
   "version": "3.6.10"
  }
 },
 "nbformat": 4,
 "nbformat_minor": 2
}
